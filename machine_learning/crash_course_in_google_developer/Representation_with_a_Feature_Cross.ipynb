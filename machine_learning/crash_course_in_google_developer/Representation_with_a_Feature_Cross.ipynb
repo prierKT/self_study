{
  "cells": [
    {
      "cell_type": "code",
      "execution_count": 1,
      "metadata": {
        "cellView": "form",
        "id": "wDlWLbfkJtvu"
      },
      "outputs": [],
      "source": [
        "#@title Copyright 2020 Google LLC. Double-click for license information.\n",
        "# Licensed under the Apache License, Version 2.0 (the \"License\");\n",
        "# you may not use this file except in compliance with the License.\n",
        "# You may obtain a copy of the License at\n",
        "#\n",
        "# https://www.apache.org/licenses/LICENSE-2.0\n",
        "#\n",
        "# Unless required by applicable law or agreed to in writing, software\n",
        "# distributed under the License is distributed on an \"AS IS\" BASIS,\n",
        "# WITHOUT WARRANTIES OR CONDITIONS OF ANY KIND, either express or implied.\n",
        "# See the License for the specific language governing permissions and\n",
        "# limitations under the License."
      ]
    },
    {
      "cell_type": "markdown",
      "metadata": {
        "id": "TL5y5fY9Jy_x"
      },
      "source": [
        "# Representation with a Feature Cross\n",
        "\n",
        "In this exercise, you'll experiment with different ways to represent features."
      ]
    },
    {
      "cell_type": "markdown",
      "metadata": {
        "id": "RXWoPIezkzgI"
      },
      "source": [
        "## Learning Objectives:\n",
        "\n",
        "After doing this Colab, you'll know how to:\n",
        "\n",
        "  * Use [`tf.feature_column`](https://www.tensorflow.org/api_docs/python/tf/feature_column) methods to represent features in different ways.\n",
        "  * Represent features as [bins](https://developers.google.com/machine-learning/glossary/#bucketing). \n",
        "  * Cross bins to create a [feature cross](https://developers.google.com/machine-learning/glossary/#feature_cross). "
      ]
    },
    {
      "cell_type": "markdown",
      "metadata": {
        "id": "lH_g3Hsfkzzb"
      },
      "source": [
        "## The Dataset\n",
        "  \n",
        "Like several of the previous Colabs, this exercise uses the [California Housing Dataset](https://developers.google.com/machine-learning/crash-course/california-housing-data-description)."
      ]
    },
    {
      "cell_type": "markdown",
      "metadata": {
        "id": "xchnxAsaKKqO"
      },
      "source": [
        "## Use the right version of TensorFlow\n",
        "\n"
      ]
    },
    {
      "cell_type": "code",
      "execution_count": 2,
      "metadata": {
        "id": "qBpGi_GD14-p"
      },
      "outputs": [
        {
          "name": "stderr",
          "output_type": "stream",
          "text": [
            "UsageError: Line magic function `%tensorflow_version` not found.\n"
          ]
        }
      ],
      "source": [
        "%tensorflow_version 2.x"
      ]
    },
    {
      "cell_type": "markdown",
      "metadata": {
        "id": "5iuw6-JOGf7I"
      },
      "source": [
        "## Call the import statements\n",
        "\n",
        "The following code imports the necessary code to run the code in the rest of this Colaboratory."
      ]
    },
    {
      "cell_type": "code",
      "execution_count": 3,
      "metadata": {
        "id": "9n9_cTveKmse"
      },
      "outputs": [
        {
          "name": "stdout",
          "output_type": "stream",
          "text": [
            "Imported the modules.\n"
          ]
        }
      ],
      "source": [
        "#@title Load the imports\n",
        "\n",
        "# from __future__ import absolute_import, division, print_function, unicode_literals\n",
        "\n",
        "import numpy as np\n",
        "import pandas as pd\n",
        "import tensorflow as tf\n",
        "from tensorflow import feature_column\n",
        "from tensorflow.keras import layers\n",
        "\n",
        "from matplotlib import pyplot as plt\n",
        "\n",
        "# The following lines adjust the granularity of reporting.\n",
        "pd.options.display.max_rows = 10\n",
        "pd.options.display.float_format = \"{:.1f}\".format\n",
        "\n",
        "tf.keras.backend.set_floatx('float32')\n",
        "\n",
        "print(\"Imported the modules.\")"
      ]
    },
    {
      "cell_type": "markdown",
      "metadata": {
        "id": "X_TaJhU4KcuY"
      },
      "source": [
        "## Load, scale, and shuffle the examples\n",
        "\n",
        "The following code cell loads the separate .csv files and creates the following two pandas DataFrames:\n",
        "\n",
        "* `train_df`, which contains the training set\n",
        "* `test_df`, which contains the test set\n",
        "\n",
        "The code cell then scales the `median_house_value` to a more human-friendly range and then shuffles the examples."
      ]
    },
    {
      "cell_type": "code",
      "execution_count": 4,
      "metadata": {
        "id": "JZlvdpyYKx7V"
      },
      "outputs": [],
      "source": [
        "# Load the dataset\n",
        "train_df = pd.read_csv(\"https://download.mlcc.google.com/mledu-datasets/california_housing_train.csv\")\n",
        "test_df = pd.read_csv(\"https://download.mlcc.google.com/mledu-datasets/california_housing_test.csv\")\n",
        "\n",
        "# Scale the labels\n",
        "scale_factor = 1000.0\n",
        "# Scale the training set's label.\n",
        "train_df[\"median_house_value\"] /= scale_factor \n",
        "\n",
        "# Scale the test set's label\n",
        "test_df[\"median_house_value\"] /= scale_factor\n",
        "\n",
        "# Shuffle the examples\n",
        "train_df = train_df.reindex(np.random.permutation(train_df.index))"
      ]
    },
    {
      "cell_type": "code",
      "execution_count": 5,
      "metadata": {
        "id": "vpCmirSm-YQn"
      },
      "outputs": [
        {
          "data": {
            "text/html": [
              "<div>\n",
              "<style scoped>\n",
              "    .dataframe tbody tr th:only-of-type {\n",
              "        vertical-align: middle;\n",
              "    }\n",
              "\n",
              "    .dataframe tbody tr th {\n",
              "        vertical-align: top;\n",
              "    }\n",
              "\n",
              "    .dataframe thead th {\n",
              "        text-align: right;\n",
              "    }\n",
              "</style>\n",
              "<table border=\"1\" class=\"dataframe\">\n",
              "  <thead>\n",
              "    <tr style=\"text-align: right;\">\n",
              "      <th></th>\n",
              "      <th>longitude</th>\n",
              "      <th>latitude</th>\n",
              "      <th>housing_median_age</th>\n",
              "      <th>total_rooms</th>\n",
              "      <th>total_bedrooms</th>\n",
              "      <th>population</th>\n",
              "      <th>households</th>\n",
              "      <th>median_income</th>\n",
              "      <th>median_house_value</th>\n",
              "    </tr>\n",
              "  </thead>\n",
              "  <tbody>\n",
              "    <tr>\n",
              "      <th>2810</th>\n",
              "      <td>-117.7</td>\n",
              "      <td>34.1</td>\n",
              "      <td>32.0</td>\n",
              "      <td>3241.0</td>\n",
              "      <td>895.0</td>\n",
              "      <td>1592.0</td>\n",
              "      <td>810.0</td>\n",
              "      <td>2.5</td>\n",
              "      <td>181.8</td>\n",
              "    </tr>\n",
              "    <tr>\n",
              "      <th>5145</th>\n",
              "      <td>-118.1</td>\n",
              "      <td>34.1</td>\n",
              "      <td>42.0</td>\n",
              "      <td>700.0</td>\n",
              "      <td>212.0</td>\n",
              "      <td>662.0</td>\n",
              "      <td>210.0</td>\n",
              "      <td>3.0</td>\n",
              "      <td>191.7</td>\n",
              "    </tr>\n",
              "    <tr>\n",
              "      <th>7574</th>\n",
              "      <td>-118.4</td>\n",
              "      <td>33.8</td>\n",
              "      <td>25.0</td>\n",
              "      <td>9042.0</td>\n",
              "      <td>2022.0</td>\n",
              "      <td>4458.0</td>\n",
              "      <td>1944.0</td>\n",
              "      <td>4.6</td>\n",
              "      <td>378.8</td>\n",
              "    </tr>\n",
              "    <tr>\n",
              "      <th>14783</th>\n",
              "      <td>-122.2</td>\n",
              "      <td>37.8</td>\n",
              "      <td>36.0</td>\n",
              "      <td>606.0</td>\n",
              "      <td>132.0</td>\n",
              "      <td>531.0</td>\n",
              "      <td>133.0</td>\n",
              "      <td>1.6</td>\n",
              "      <td>70.0</td>\n",
              "    </tr>\n",
              "    <tr>\n",
              "      <th>3093</th>\n",
              "      <td>-117.8</td>\n",
              "      <td>34.1</td>\n",
              "      <td>26.0</td>\n",
              "      <td>3118.0</td>\n",
              "      <td>528.0</td>\n",
              "      <td>1546.0</td>\n",
              "      <td>545.0</td>\n",
              "      <td>5.3</td>\n",
              "      <td>209.4</td>\n",
              "    </tr>\n",
              "    <tr>\n",
              "      <th>...</th>\n",
              "      <td>...</td>\n",
              "      <td>...</td>\n",
              "      <td>...</td>\n",
              "      <td>...</td>\n",
              "      <td>...</td>\n",
              "      <td>...</td>\n",
              "      <td>...</td>\n",
              "      <td>...</td>\n",
              "      <td>...</td>\n",
              "    </tr>\n",
              "    <tr>\n",
              "      <th>3245</th>\n",
              "      <td>-117.9</td>\n",
              "      <td>33.9</td>\n",
              "      <td>12.0</td>\n",
              "      <td>1600.0</td>\n",
              "      <td>251.0</td>\n",
              "      <td>685.0</td>\n",
              "      <td>256.0</td>\n",
              "      <td>5.2</td>\n",
              "      <td>254.0</td>\n",
              "    </tr>\n",
              "    <tr>\n",
              "      <th>296</th>\n",
              "      <td>-116.8</td>\n",
              "      <td>32.6</td>\n",
              "      <td>19.0</td>\n",
              "      <td>2652.0</td>\n",
              "      <td>520.0</td>\n",
              "      <td>1421.0</td>\n",
              "      <td>491.0</td>\n",
              "      <td>3.5</td>\n",
              "      <td>206.1</td>\n",
              "    </tr>\n",
              "    <tr>\n",
              "      <th>9835</th>\n",
              "      <td>-119.7</td>\n",
              "      <td>34.4</td>\n",
              "      <td>52.0</td>\n",
              "      <td>977.0</td>\n",
              "      <td>289.0</td>\n",
              "      <td>412.0</td>\n",
              "      <td>272.0</td>\n",
              "      <td>2.1</td>\n",
              "      <td>300.0</td>\n",
              "    </tr>\n",
              "    <tr>\n",
              "      <th>1678</th>\n",
              "      <td>-117.2</td>\n",
              "      <td>32.9</td>\n",
              "      <td>12.0</td>\n",
              "      <td>2165.0</td>\n",
              "      <td>437.0</td>\n",
              "      <td>792.0</td>\n",
              "      <td>386.0</td>\n",
              "      <td>5.3</td>\n",
              "      <td>294.4</td>\n",
              "    </tr>\n",
              "    <tr>\n",
              "      <th>9501</th>\n",
              "      <td>-119.3</td>\n",
              "      <td>36.3</td>\n",
              "      <td>33.0</td>\n",
              "      <td>2107.0</td>\n",
              "      <td>451.0</td>\n",
              "      <td>1364.0</td>\n",
              "      <td>442.0</td>\n",
              "      <td>2.2</td>\n",
              "      <td>67.2</td>\n",
              "    </tr>\n",
              "  </tbody>\n",
              "</table>\n",
              "<p>17000 rows × 9 columns</p>\n",
              "</div>"
            ],
            "text/plain": [
              "       longitude  latitude  housing_median_age  total_rooms  total_bedrooms  \\\n",
              "2810      -117.7      34.1                32.0       3241.0           895.0   \n",
              "5145      -118.1      34.1                42.0        700.0           212.0   \n",
              "7574      -118.4      33.8                25.0       9042.0          2022.0   \n",
              "14783     -122.2      37.8                36.0        606.0           132.0   \n",
              "3093      -117.8      34.1                26.0       3118.0           528.0   \n",
              "...          ...       ...                 ...          ...             ...   \n",
              "3245      -117.9      33.9                12.0       1600.0           251.0   \n",
              "296       -116.8      32.6                19.0       2652.0           520.0   \n",
              "9835      -119.7      34.4                52.0        977.0           289.0   \n",
              "1678      -117.2      32.9                12.0       2165.0           437.0   \n",
              "9501      -119.3      36.3                33.0       2107.0           451.0   \n",
              "\n",
              "       population  households  median_income  median_house_value  \n",
              "2810       1592.0       810.0            2.5               181.8  \n",
              "5145        662.0       210.0            3.0               191.7  \n",
              "7574       4458.0      1944.0            4.6               378.8  \n",
              "14783       531.0       133.0            1.6                70.0  \n",
              "3093       1546.0       545.0            5.3               209.4  \n",
              "...           ...         ...            ...                 ...  \n",
              "3245        685.0       256.0            5.2               254.0  \n",
              "296        1421.0       491.0            3.5               206.1  \n",
              "9835        412.0       272.0            2.1               300.0  \n",
              "1678        792.0       386.0            5.3               294.4  \n",
              "9501       1364.0       442.0            2.2                67.2  \n",
              "\n",
              "[17000 rows x 9 columns]"
            ]
          },
          "execution_count": 5,
          "metadata": {},
          "output_type": "execute_result"
        }
      ],
      "source": [
        "train_df"
      ]
    },
    {
      "cell_type": "code",
      "execution_count": 6,
      "metadata": {
        "id": "lFlbWh3PDZ1_"
      },
      "outputs": [
        {
          "data": {
            "text/html": [
              "<div>\n",
              "<style scoped>\n",
              "    .dataframe tbody tr th:only-of-type {\n",
              "        vertical-align: middle;\n",
              "    }\n",
              "\n",
              "    .dataframe tbody tr th {\n",
              "        vertical-align: top;\n",
              "    }\n",
              "\n",
              "    .dataframe thead th {\n",
              "        text-align: right;\n",
              "    }\n",
              "</style>\n",
              "<table border=\"1\" class=\"dataframe\">\n",
              "  <thead>\n",
              "    <tr style=\"text-align: right;\">\n",
              "      <th></th>\n",
              "      <th>longitude</th>\n",
              "      <th>latitude</th>\n",
              "    </tr>\n",
              "  </thead>\n",
              "  <tbody>\n",
              "    <tr>\n",
              "      <th>count</th>\n",
              "      <td>17000.0</td>\n",
              "      <td>17000.0</td>\n",
              "    </tr>\n",
              "    <tr>\n",
              "      <th>mean</th>\n",
              "      <td>-119.6</td>\n",
              "      <td>35.6</td>\n",
              "    </tr>\n",
              "    <tr>\n",
              "      <th>std</th>\n",
              "      <td>2.0</td>\n",
              "      <td>2.1</td>\n",
              "    </tr>\n",
              "    <tr>\n",
              "      <th>min</th>\n",
              "      <td>-124.3</td>\n",
              "      <td>32.5</td>\n",
              "    </tr>\n",
              "    <tr>\n",
              "      <th>25%</th>\n",
              "      <td>-121.8</td>\n",
              "      <td>33.9</td>\n",
              "    </tr>\n",
              "    <tr>\n",
              "      <th>50%</th>\n",
              "      <td>-118.5</td>\n",
              "      <td>34.2</td>\n",
              "    </tr>\n",
              "    <tr>\n",
              "      <th>75%</th>\n",
              "      <td>-118.0</td>\n",
              "      <td>37.7</td>\n",
              "    </tr>\n",
              "    <tr>\n",
              "      <th>max</th>\n",
              "      <td>-114.3</td>\n",
              "      <td>42.0</td>\n",
              "    </tr>\n",
              "  </tbody>\n",
              "</table>\n",
              "</div>"
            ],
            "text/plain": [
              "       longitude  latitude\n",
              "count    17000.0   17000.0\n",
              "mean      -119.6      35.6\n",
              "std          2.0       2.1\n",
              "min       -124.3      32.5\n",
              "25%       -121.8      33.9\n",
              "50%       -118.5      34.2\n",
              "75%       -118.0      37.7\n",
              "max       -114.3      42.0"
            ]
          },
          "execution_count": 6,
          "metadata": {},
          "output_type": "execute_result"
        }
      ],
      "source": [
        "train_df[['longitude', 'latitude']].describe()"
      ]
    },
    {
      "cell_type": "markdown",
      "metadata": {
        "id": "8kir8UTUXSV8"
      },
      "source": [
        "## Represent latitude and longitude as floating-point values\n",
        "\n",
        "Previous Colabs trained on only a single feature or a single synthetic feature. By contrast, this exercise trains on two features. Furthermore, this Colab introduces **feature columns**, which provide a sophisticated way to represent features.  \n",
        "\n",
        "You create feature columns as possible:\n",
        "\n",
        "  * Call a [`tf.feature_column`](https://www.tensorflow.org/api_docs/python/tf/feature_column) method to represent a single feature, single feature cross, or single synthetic feature in the desired way.  For example, to represent a certain feature as floating-point values, call [`tf.feature_column.numeric_column`](https://www.tensorflow.org/api_docs/python/tf/feature_column/numeric_column). To represent a certain feature as a series of buckets or bins, call [`tf.feature_column.bucketized_column`](https://www.tensorflow.org/api_docs/python/tf/feature_column/bucketized_column).\n",
        "  * Assemble the created representations into a Python list. \n",
        "\n",
        "A neighborhood's location is typically the most important feature in determining a house's value. The California Housing dataset provides two features, `latitude` and `longitude` that identify each neighborhood's location. \n",
        "\n",
        "The following code cell calls [`tf.feature_column.numeric_column`](https://www.tensorflow.org/api_docs/python/tf/feature_column/numeric_column) twice, first to represent `latitude` as floating-point value and a second time to represent `longitude` as floating-point values. \n",
        "\n",
        "This code cell specifies the features that you'll ultimately train the model on and how each of those features will be represented. The transformations (collected in `fp_feature_layer`) don't actually get applied until you pass a DataFrame to it, which will happen when we train the model. \n"
      ]
    },
    {
      "cell_type": "code",
      "execution_count": 7,
      "metadata": {
        "id": "3tmmZIDw4JEC"
      },
      "outputs": [],
      "source": [
        "# Create an empty list that will eventually hold all feature columns.\n",
        "feature_columns = []\n",
        "\n",
        "# Create a numerical feature column to represent latitude.\n",
        "latitude = tf.feature_column.numeric_column(\"latitude\")\n",
        "feature_columns.append(latitude)\n",
        "\n",
        "# Create a numerical feature column to represent longitude.\n",
        "longitude = tf.feature_column.numeric_column(\"longitude\")\n",
        "feature_columns.append(longitude)\n",
        "\n",
        "# Convert the list of feature columns into a layer that will ultimately become\n",
        "# part of the model. Understanding layers is not important right now.\n",
        "fp_feature_layer = layers.DenseFeatures(feature_columns)"
      ]
    },
    {
      "cell_type": "markdown",
      "metadata": {
        "id": "Q2x8sHKnAy3Q"
      },
      "source": [
        "When used, the layer processes the raw inputs, according to the transformations described by the feature columns, and packs the result into a numeric array.  (The model will train on this numeric array.) "
      ]
    },
    {
      "cell_type": "markdown",
      "metadata": {
        "id": "3014ezH3C7jT"
      },
      "source": [
        "## Define functions that create and train a model, and a plotting function\n",
        "\n",
        "The following code defines three functions:\n",
        "\n",
        "  * `create_model`, which tells TensorFlow to build a linear regression model and to use the `feature_layer_as_fp` as the representation of the model's features.\n",
        "  * `train_model`, which will ultimately train the model from training set examples.\n",
        "  * `plot_the_loss_curve`, which generates a loss curve."
      ]
    },
    {
      "cell_type": "code",
      "execution_count": 8,
      "metadata": {
        "id": "pedD5GhlDC-y"
      },
      "outputs": [
        {
          "name": "stdout",
          "output_type": "stream",
          "text": [
            "Defined the create_model, train_model, and plot_the_loss_curve functions.\n"
          ]
        }
      ],
      "source": [
        "#@title Define functions to create and train a model, and a plotting function\n",
        "def create_model(my_learning_rate, feature_layer):\n",
        "  \"\"\"Create and compile a simple linear regression model.\"\"\"\n",
        "  # Most simple tf.keras models are sequential.\n",
        "  model = tf.keras.models.Sequential()\n",
        "\n",
        "  # Add the layer containing the feature columns to the model.\n",
        "  model.add(feature_layer)\n",
        "\n",
        "  # Add one linear layer to the model to yield a simple linear regressor.\n",
        "  model.add(tf.keras.layers.Dense(units=1, input_shape=(1,)))\n",
        "\n",
        "  # Construct the layers into a model that TensorFlow can execute.\n",
        "  model.compile(optimizer=tf.keras.optimizers.RMSprop(lr=my_learning_rate),\n",
        "                loss=\"mean_squared_error\",\n",
        "                metrics=[tf.keras.metrics.RootMeanSquaredError()])\n",
        "\n",
        "  return model           \n",
        "\n",
        "\n",
        "def train_model(model, dataset, epochs, batch_size, label_name):\n",
        "  \"\"\"Feed a dataset into the model in order to train it.\"\"\"\n",
        "\n",
        "  features = {name:np.array(value) for name, value in dataset.items()}\n",
        "  label = np.array(features.pop(label_name))\n",
        "  history = model.fit(x=features, y=label, batch_size=batch_size,\n",
        "                      epochs=epochs, shuffle=True)\n",
        "\n",
        "  # The list of epochs is stored separately from the rest of history.\n",
        "  epochs = history.epoch\n",
        "  \n",
        "  # Isolate the mean absolute error for each epoch.\n",
        "  hist = pd.DataFrame(history.history)\n",
        "  rmse = hist[\"root_mean_squared_error\"]\n",
        "\n",
        "  return epochs, rmse   \n",
        "\n",
        "\n",
        "def plot_the_loss_curve(epochs, rmse):\n",
        "  \"\"\"Plot a curve of loss vs. epoch.\"\"\"\n",
        "\n",
        "  plt.figure()\n",
        "  plt.xlabel(\"Epoch\")\n",
        "  plt.ylabel(\"Root Mean Squared Error\")\n",
        "\n",
        "  plt.plot(epochs, rmse, label=\"Loss\")\n",
        "  plt.legend()\n",
        "  plt.ylim([rmse.min()*0.94, rmse.max()* 1.05])\n",
        "  plt.show()  \n",
        "\n",
        "print(\"Defined the create_model, train_model, and plot_the_loss_curve functions.\")"
      ]
    },
    {
      "cell_type": "markdown",
      "metadata": {
        "id": "D-IXYVfvM4gD"
      },
      "source": [
        "## Train the model with floating-point representations\n",
        "\n",
        "The following code cell calls the functions you just created to train, plot, and evaluate a model."
      ]
    },
    {
      "cell_type": "code",
      "execution_count": 9,
      "metadata": {
        "cellView": "both",
        "id": "nj3v5EKQFY8s"
      },
      "outputs": [
        {
          "name": "stdout",
          "output_type": "stream",
          "text": [
            "Epoch 1/30\n",
            "WARNING:tensorflow:Layers in a Sequential model should only have a single input tensor, but we receive a <class 'dict'> input: {'longitude': <tf.Tensor 'ExpandDims_3:0' shape=(100, 1) dtype=float32>, 'latitude': <tf.Tensor 'ExpandDims_2:0' shape=(100, 1) dtype=float32>, 'housing_median_age': <tf.Tensor 'ExpandDims_1:0' shape=(100, 1) dtype=float32>, 'total_rooms': <tf.Tensor 'ExpandDims_7:0' shape=(100, 1) dtype=float32>, 'total_bedrooms': <tf.Tensor 'ExpandDims_6:0' shape=(100, 1) dtype=float32>, 'population': <tf.Tensor 'ExpandDims_5:0' shape=(100, 1) dtype=float32>, 'households': <tf.Tensor 'ExpandDims:0' shape=(100, 1) dtype=float32>, 'median_income': <tf.Tensor 'ExpandDims_4:0' shape=(100, 1) dtype=float32>}\n",
            "Consider rewriting this model with the Functional API.\n",
            "WARNING:tensorflow:Layers in a Sequential model should only have a single input tensor, but we receive a <class 'dict'> input: {'longitude': <tf.Tensor 'ExpandDims_3:0' shape=(100, 1) dtype=float32>, 'latitude': <tf.Tensor 'ExpandDims_2:0' shape=(100, 1) dtype=float32>, 'housing_median_age': <tf.Tensor 'ExpandDims_1:0' shape=(100, 1) dtype=float32>, 'total_rooms': <tf.Tensor 'ExpandDims_7:0' shape=(100, 1) dtype=float32>, 'total_bedrooms': <tf.Tensor 'ExpandDims_6:0' shape=(100, 1) dtype=float32>, 'population': <tf.Tensor 'ExpandDims_5:0' shape=(100, 1) dtype=float32>, 'households': <tf.Tensor 'ExpandDims:0' shape=(100, 1) dtype=float32>, 'median_income': <tf.Tensor 'ExpandDims_4:0' shape=(100, 1) dtype=float32>}\n",
            "Consider rewriting this model with the Functional API.\n",
            "170/170 [==============================] - 2s 3ms/step - loss: 14150.1449 - root_mean_squared_error: 118.8487\n",
            "Epoch 2/30\n",
            "170/170 [==============================] - 1s 3ms/step - loss: 13653.8215 - root_mean_squared_error: 116.8460\n",
            "Epoch 3/30\n",
            "170/170 [==============================] - 0s 3ms/step - loss: 13320.2982 - root_mean_squared_error: 115.4119\n",
            "Epoch 4/30\n",
            "170/170 [==============================] - 0s 3ms/step - loss: 13257.3424 - root_mean_squared_error: 115.1364\n",
            "Epoch 5/30\n",
            "170/170 [==============================] - 1s 3ms/step - loss: 13444.5312 - root_mean_squared_error: 115.9466\n",
            "Epoch 6/30\n",
            "170/170 [==============================] - 1s 3ms/step - loss: 13507.8625 - root_mean_squared_error: 116.2049\n",
            "Epoch 7/30\n",
            "170/170 [==============================] - 0s 3ms/step - loss: 12961.4856 - root_mean_squared_error: 113.8395\n",
            "Epoch 8/30\n",
            "170/170 [==============================] - 0s 3ms/step - loss: 13313.4160 - root_mean_squared_error: 115.3813\n",
            "Epoch 9/30\n",
            "170/170 [==============================] - 1s 3ms/step - loss: 13220.9321 - root_mean_squared_error: 114.9722A: 0s - loss: 13218.8794 - root_mean_squared_error: 114.96\n",
            "Epoch 10/30\n",
            "170/170 [==============================] - 1s 3ms/step - loss: 13099.9058 - root_mean_squared_error: 114.4510\n",
            "Epoch 11/30\n",
            "170/170 [==============================] - 1s 3ms/step - loss: 13224.6341 - root_mean_squared_error: 114.9971\n",
            "Epoch 12/30\n",
            "170/170 [==============================] - 0s 3ms/step - loss: 12994.2494 - root_mean_squared_error: 113.9886\n",
            "Epoch 13/30\n",
            "170/170 [==============================] - 1s 3ms/step - loss: 13082.8895 - root_mean_squared_error: 114.3718\n",
            "Epoch 14/30\n",
            "170/170 [==============================] - 0s 3ms/step - loss: 13172.9826 - root_mean_squared_error: 114.7651\n",
            "Epoch 15/30\n",
            "170/170 [==============================] - 0s 3ms/step - loss: 12787.2573 - root_mean_squared_error: 113.0771\n",
            "Epoch 16/30\n",
            "170/170 [==============================] - 0s 3ms/step - loss: 13154.1415 - root_mean_squared_error: 114.6900\n",
            "Epoch 17/30\n",
            "170/170 [==============================] - 0s 3ms/step - loss: 13142.0000 - root_mean_squared_error: 114.6338\n",
            "Epoch 18/30\n",
            "170/170 [==============================] - 1s 3ms/step - loss: 12827.0915 - root_mean_squared_error: 113.2528\n",
            "Epoch 19/30\n",
            "170/170 [==============================] - 1s 4ms/step - loss: 13153.2145 - root_mean_squared_error: 114.6744\n",
            "Epoch 20/30\n",
            "170/170 [==============================] - 1s 4ms/step - loss: 12995.3836 - root_mean_squared_error: 113.9928\n",
            "Epoch 21/30\n",
            "170/170 [==============================] - 1s 3ms/step - loss: 13047.5844 - root_mean_squared_error: 114.2217\n",
            "Epoch 22/30\n",
            "170/170 [==============================] - 1s 3ms/step - loss: 12675.8494 - root_mean_squared_error: 112.5670\n",
            "Epoch 23/30\n",
            "170/170 [==============================] - 1s 3ms/step - loss: 13125.3584 - root_mean_squared_error: 114.5590\n",
            "Epoch 24/30\n",
            "170/170 [==============================] - 1s 3ms/step - loss: 12584.2613 - root_mean_squared_error: 112.1677\n",
            "Epoch 25/30\n",
            "170/170 [==============================] - 1s 3ms/step - loss: 12999.1742 - root_mean_squared_error: 114.0119\n",
            "Epoch 26/30\n",
            "170/170 [==============================] - 1s 3ms/step - loss: 13290.1671 - root_mean_squared_error: 115.2719\n",
            "Epoch 27/30\n",
            "170/170 [==============================] - 1s 3ms/step - loss: 12988.7198 - root_mean_squared_error: 113.9661\n",
            "Epoch 28/30\n",
            "170/170 [==============================] - 1s 3ms/step - loss: 13032.4539 - root_mean_squared_error: 114.1544\n",
            "Epoch 29/30\n",
            "170/170 [==============================] - 0s 3ms/step - loss: 12775.5593 - root_mean_squared_error: 113.0259\n",
            "Epoch 30/30\n",
            "170/170 [==============================] - 0s 3ms/step - loss: 12797.2594 - root_mean_squared_error: 113.1218\n"
          ]
        },
        {
          "data": {
            "image/png": "[encoded data removed]",
            "text/plain": [
              "<Figure size 432x288 with 1 Axes>"
            ]
          },
          "metadata": {
            "needs_background": "light"
          },
          "output_type": "display_data"
        },
        {
          "name": "stdout",
          "output_type": "stream",
          "text": [
            "\n",
            ": Evaluate the new model against the test set:\n",
            "WARNING:tensorflow:Layers in a Sequential model should only have a single input tensor, but we receive a <class 'dict'> input: {'longitude': <tf.Tensor 'ExpandDims_3:0' shape=(100, 1) dtype=float32>, 'latitude': <tf.Tensor 'ExpandDims_2:0' shape=(100, 1) dtype=float32>, 'housing_median_age': <tf.Tensor 'ExpandDims_1:0' shape=(100, 1) dtype=float32>, 'total_rooms': <tf.Tensor 'ExpandDims_7:0' shape=(100, 1) dtype=float32>, 'total_bedrooms': <tf.Tensor 'ExpandDims_6:0' shape=(100, 1) dtype=float32>, 'population': <tf.Tensor 'ExpandDims_5:0' shape=(100, 1) dtype=float32>, 'households': <tf.Tensor 'ExpandDims:0' shape=(100, 1) dtype=float32>, 'median_income': <tf.Tensor 'ExpandDims_4:0' shape=(100, 1) dtype=float32>}\n",
            "Consider rewriting this model with the Functional API.\n",
            "30/30 [==============================] - 0s 3ms/step - loss: 12176.2598 - root_mean_squared_error: 110.3461\n"
          ]
        },
        {
          "data": {
            "text/plain": [
              "[12176.259765625, 110.3460922241211]"
            ]
          },
          "execution_count": 9,
          "metadata": {},
          "output_type": "execute_result"
        }
      ],
      "source": [
        "# The following variables are the hyperparameters.\n",
        "learning_rate = 0.05\n",
        "epochs = 30\n",
        "batch_size = 100\n",
        "label_name = 'median_house_value'\n",
        "\n",
        "# Create and compile the model's topography.\n",
        "my_model = create_model(learning_rate, fp_feature_layer)\n",
        "\n",
        "# Train the model on the training set.\n",
        "epochs, rmse = train_model(my_model, train_df, epochs, batch_size, label_name)\n",
        "\n",
        "plot_the_loss_curve(epochs, rmse)\n",
        "\n",
        "print(\"\\n: Evaluate the new model against the test set:\")\n",
        "test_features = {name:np.array(value) for name, value in test_df.items()}\n",
        "test_label = np.array(test_features.pop(label_name))\n",
        "my_model.evaluate(x=test_features, y=test_label, batch_size=batch_size)"
      ]
    },
    {
      "cell_type": "markdown",
      "metadata": {
        "id": "dbyWNS6T2fIT"
      },
      "source": [
        "## Task 1: Why aren't floating-point values a good way to represent latitude and longitude?\n",
        "\n",
        "Are floating-point values a good way to represent `latitude` and `longitude`? "
      ]
    },
    {
      "cell_type": "code",
      "execution_count": 10,
      "metadata": {
        "id": "VJLDCu5M2hXX"
      },
      "outputs": [],
      "source": [
        "#@title Double-click to view an answer to Task 1.\n",
        "\n",
        "# No. Representing latitude and longitude as \n",
        "# floating-point values does not have much \n",
        "# predictive power. For example, neighborhoods at \n",
        "# latitude 35 are not 36/35 more valuable \n",
        "# (or 35/36 less valuable) than houses at \n",
        "# latitude 36.\n",
        "\n",
        "# Representing `latitude` and `longitude` as \n",
        "# floating-point values provides almost no \n",
        "# predictive power. We're only using the raw values \n",
        "# to establish a baseline for future experiments \n",
        "# with better representations."
      ]
    },
    {
      "cell_type": "markdown",
      "metadata": {
        "id": "Na8TPoPYx-0k"
      },
      "source": [
        "## Represent latitude and longitude in buckets\n",
        "\n",
        "The following code cell represents latitude and longitude in buckets (bins). Each bin represents all the neighborhoods within a single degree. For example,\n",
        "neighborhoods at latitude 35.4 and 35.8 are in the same bucket, but neighborhoods in latitude 35.4 and 36.2 are in different buckets. \n",
        "\n",
        "The model will learn a separate weight for each bucket. For example, the model will learn one weight for all the neighborhoods in the \"35\" bin\", a different weight for neighborhoods in the \"36\" bin, and so on. This representation will create approximately 20 buckets:\n",
        " \n",
        "  * 10 buckets for `latitude`. \n",
        "  * 10 buckets for `longitude`. "
      ]
    },
    {
      "cell_type": "code",
      "execution_count": 11,
      "metadata": {
        "id": "WLTUFiaUyIpx"
      },
      "outputs": [],
      "source": [
        "resolution_in_degrees = 1.0 \n",
        "\n",
        "# Create a new empty list that will eventually hold the generated feature column.\n",
        "feature_columns = []\n",
        "\n",
        "# Create a bucket feature column for latitude.\n",
        "latitude_as_a_numeric_column = tf.feature_column.numeric_column(\"latitude\")\n",
        "latitude_boundaries = list(np.arange(int(min(train_df['latitude'])), \n",
        "                                     int(max(train_df['latitude'])), \n",
        "                                     resolution_in_degrees))\n",
        "latitude = tf.feature_column.bucketized_column(latitude_as_a_numeric_column, \n",
        "                                               latitude_boundaries)\n",
        "feature_columns.append(latitude)\n",
        "\n",
        "# Create a bucket feature column for longitude.\n",
        "longitude_as_a_numeric_column = tf.feature_column.numeric_column(\"longitude\")\n",
        "longitude_boundaries = list(np.arange(int(min(train_df['longitude'])), \n",
        "                                      int(max(train_df['longitude'])), \n",
        "                                      resolution_in_degrees))\n",
        "longitude = tf.feature_column.bucketized_column(longitude_as_a_numeric_column, \n",
        "                                                longitude_boundaries)\n",
        "feature_columns.append(longitude)\n",
        "\n",
        "# Convert the list of feature columns into a layer that will ultimately become\n",
        "# part of the model. Understanding layers is not important right now.\n",
        "buckets_feature_layer = layers.DenseFeatures(feature_columns)"
      ]
    },
    {
      "cell_type": "markdown",
      "metadata": {
        "id": "aZsFzoPQ4pFm"
      },
      "source": [
        "## Train the model with bucket representations\n",
        "\n",
        "Run the following code cell to train the model with bucket representations rather than floating-point representations:"
      ]
    },
    {
      "cell_type": "code",
      "execution_count": 12,
      "metadata": {
        "id": "UnDrghxBzLvD"
      },
      "outputs": [
        {
          "name": "stdout",
          "output_type": "stream",
          "text": [
            "Epoch 1/35\n",
            "WARNING:tensorflow:Layers in a Sequential model should only have a single input tensor, but we receive a <class 'dict'> input: {'longitude': <tf.Tensor 'ExpandDims_3:0' shape=(100, 1) dtype=float32>, 'latitude': <tf.Tensor 'ExpandDims_2:0' shape=(100, 1) dtype=float32>, 'housing_median_age': <tf.Tensor 'ExpandDims_1:0' shape=(100, 1) dtype=float32>, 'total_rooms': <tf.Tensor 'ExpandDims_7:0' shape=(100, 1) dtype=float32>, 'total_bedrooms': <tf.Tensor 'ExpandDims_6:0' shape=(100, 1) dtype=float32>, 'population': <tf.Tensor 'ExpandDims_5:0' shape=(100, 1) dtype=float32>, 'households': <tf.Tensor 'ExpandDims:0' shape=(100, 1) dtype=float32>, 'median_income': <tf.Tensor 'ExpandDims_4:0' shape=(100, 1) dtype=float32>}\n",
            "Consider rewriting this model with the Functional API.\n",
            "WARNING:tensorflow:Layers in a Sequential model should only have a single input tensor, but we receive a <class 'dict'> input: {'longitude': <tf.Tensor 'ExpandDims_3:0' shape=(100, 1) dtype=float32>, 'latitude': <tf.Tensor 'ExpandDims_2:0' shape=(100, 1) dtype=float32>, 'housing_median_age': <tf.Tensor 'ExpandDims_1:0' shape=(100, 1) dtype=float32>, 'total_rooms': <tf.Tensor 'ExpandDims_7:0' shape=(100, 1) dtype=float32>, 'total_bedrooms': <tf.Tensor 'ExpandDims_6:0' shape=(100, 1) dtype=float32>, 'population': <tf.Tensor 'ExpandDims_5:0' shape=(100, 1) dtype=float32>, 'households': <tf.Tensor 'ExpandDims:0' shape=(100, 1) dtype=float32>, 'median_income': <tf.Tensor 'ExpandDims_4:0' shape=(100, 1) dtype=float32>}\n",
            "Consider rewriting this model with the Functional API.\n",
            "170/170 [==============================] - 1s 3ms/step - loss: 54478.6967 - root_mean_squared_error: 233.3809\n",
            "Epoch 2/35\n",
            "170/170 [==============================] - 1s 4ms/step - loss: 45990.5569 - root_mean_squared_error: 214.4432\n",
            "Epoch 3/35\n",
            "170/170 [==============================] - 1s 3ms/step - loss: 39183.5223 - root_mean_squared_error: 197.9423\n",
            "Epoch 4/35\n",
            "170/170 [==============================] - 1s 4ms/step - loss: 33885.0307 - root_mean_squared_error: 184.0499\n",
            "Epoch 5/35\n",
            "170/170 [==============================] - 1s 3ms/step - loss: 28476.2637 - root_mean_squared_error: 168.7227\n",
            "Epoch 6/35\n",
            "170/170 [==============================] - 1s 4ms/step - loss: 23752.1663 - root_mean_squared_error: 154.0985\n",
            "Epoch 7/35\n",
            "170/170 [==============================] - 1s 5ms/step - loss: 20294.1841 - root_mean_squared_error: 142.4469\n",
            "Epoch 8/35\n",
            "170/170 [==============================] - 1s 5ms/step - loss: 17267.9931 - root_mean_squared_error: 131.3836\n",
            "Epoch 9/35\n",
            "170/170 [==============================] - 1s 4ms/step - loss: 14804.1276 - root_mean_squared_error: 121.6665\n",
            "Epoch 10/35\n",
            "170/170 [==============================] - 1s 4ms/step - loss: 13225.0989 - root_mean_squared_error: 114.9961\n",
            "Epoch 11/35\n",
            "170/170 [==============================] - 1s 4ms/step - loss: 11868.5953 - root_mean_squared_error: 108.9393\n",
            "Epoch 12/35\n",
            "170/170 [==============================] - 1s 4ms/step - loss: 11330.6707 - root_mean_squared_error: 106.4388\n",
            "Epoch 13/35\n",
            "170/170 [==============================] - 1s 4ms/step - loss: 10750.7840 - root_mean_squared_error: 103.6624\n",
            "Epoch 14/35\n",
            "170/170 [==============================] - 1s 3ms/step - loss: 10902.2474 - root_mean_squared_error: 104.4107\n",
            "Epoch 15/35\n",
            "170/170 [==============================] - 1s 4ms/step - loss: 10798.9672 - root_mean_squared_error: 103.9071\n",
            "Epoch 16/35\n",
            "170/170 [==============================] - 1s 3ms/step - loss: 10586.5210 - root_mean_squared_error: 102.8891\n",
            "Epoch 17/35\n",
            "170/170 [==============================] - 1s 4ms/step - loss: 10471.7386 - root_mean_squared_error: 102.3125\n",
            "Epoch 18/35\n",
            "170/170 [==============================] - 1s 4ms/step - loss: 10657.5354 - root_mean_squared_error: 103.2204\n",
            "Epoch 19/35\n",
            "170/170 [==============================] - 1s 4ms/step - loss: 10290.0479 - root_mean_squared_error: 101.4332\n",
            "Epoch 20/35\n",
            "170/170 [==============================] - 1s 4ms/step - loss: 10424.5762 - root_mean_squared_error: 102.0982\n",
            "Epoch 21/35\n",
            "170/170 [==============================] - 1s 4ms/step - loss: 10479.0911 - root_mean_squared_error: 102.3651\n",
            "Epoch 22/35\n",
            "170/170 [==============================] - 1s 4ms/step - loss: 10706.3950 - root_mean_squared_error: 103.4509\n",
            "Epoch 23/35\n",
            "170/170 [==============================] - 1s 4ms/step - loss: 10604.1982 - root_mean_squared_error: 102.9676\n",
            "Epoch 24/35\n",
            "170/170 [==============================] - 1s 4ms/step - loss: 10387.1193 - root_mean_squared_error: 101.9153\n",
            "Epoch 25/35\n",
            "170/170 [==============================] - 1s 3ms/step - loss: 10407.2010 - root_mean_squared_error: 102.0102\n",
            "Epoch 26/35\n",
            "170/170 [==============================] - 1s 3ms/step - loss: 10511.1499 - root_mean_squared_error: 102.5146\n",
            "Epoch 27/35\n",
            "170/170 [==============================] - 1s 4ms/step - loss: 10409.5556 - root_mean_squared_error: 102.0242\n",
            "Epoch 28/35\n",
            "170/170 [==============================] - 1s 3ms/step - loss: 10523.2745 - root_mean_squared_error: 102.5795\n",
            "Epoch 29/35\n",
            "170/170 [==============================] - 1s 3ms/step - loss: 10482.7216 - root_mean_squared_error: 102.3792\n",
            "Epoch 30/35\n",
            "170/170 [==============================] - 1s 4ms/step - loss: 10284.2541 - root_mean_squared_error: 101.4025\n",
            "Epoch 31/35\n",
            "170/170 [==============================] - 1s 4ms/step - loss: 10271.1442 - root_mean_squared_error: 101.3405\n",
            "Epoch 32/35\n",
            "170/170 [==============================] - 1s 4ms/step - loss: 10339.6553 - root_mean_squared_error: 101.6810\n",
            "Epoch 33/35\n",
            "170/170 [==============================] - 1s 4ms/step - loss: 10153.2159 - root_mean_squared_error: 100.7468\n",
            "Epoch 34/35\n",
            "170/170 [==============================] - 1s 4ms/step - loss: 10477.3896 - root_mean_squared_error: 102.3496\n",
            "Epoch 35/35\n",
            "170/170 [==============================] - 1s 4ms/step - loss: 10185.7956 - root_mean_squared_error: 100.9162\n"
          ]
        },
        {
          "data": {
            "image/png": "[encoded data removed]",
            "text/plain": [
              "<Figure size 432x288 with 1 Axes>"
            ]
          },
          "metadata": {
            "needs_background": "light"
          },
          "output_type": "display_data"
        },
        {
          "name": "stdout",
          "output_type": "stream",
          "text": [
            "\n",
            ": Evaluate the new model against the test set:\n",
            "WARNING:tensorflow:Layers in a Sequential model should only have a single input tensor, but we receive a <class 'dict'> input: {'longitude': <tf.Tensor 'ExpandDims_3:0' shape=(100, 1) dtype=float32>, 'latitude': <tf.Tensor 'ExpandDims_2:0' shape=(100, 1) dtype=float32>, 'housing_median_age': <tf.Tensor 'ExpandDims_1:0' shape=(100, 1) dtype=float32>, 'total_rooms': <tf.Tensor 'ExpandDims_7:0' shape=(100, 1) dtype=float32>, 'total_bedrooms': <tf.Tensor 'ExpandDims_6:0' shape=(100, 1) dtype=float32>, 'population': <tf.Tensor 'ExpandDims_5:0' shape=(100, 1) dtype=float32>, 'households': <tf.Tensor 'ExpandDims:0' shape=(100, 1) dtype=float32>, 'median_income': <tf.Tensor 'ExpandDims_4:0' shape=(100, 1) dtype=float32>}\n",
            "Consider rewriting this model with the Functional API.\n",
            "30/30 [==============================] - 0s 3ms/step - loss: 10201.1582 - root_mean_squared_error: 101.0008\n"
          ]
        },
        {
          "data": {
            "text/plain": [
              "[10201.158203125, 101.00078582763672]"
            ]
          },
          "execution_count": 12,
          "metadata": {},
          "output_type": "execute_result"
        }
      ],
      "source": [
        "# The following variables are the hyperparameters.\n",
        "learning_rate = 0.04\n",
        "epochs = 35\n",
        "\n",
        "# Build the model, this time passing in the buckets_feature_layer.\n",
        "my_model = create_model(learning_rate, buckets_feature_layer)\n",
        "\n",
        "# Train the model on the training set.\n",
        "epochs, rmse = train_model(my_model, train_df, epochs, batch_size, label_name)\n",
        "\n",
        "plot_the_loss_curve(epochs, rmse)\n",
        "\n",
        "print(\"\\n: Evaluate the new model against the test set:\")\n",
        "my_model.evaluate(x=test_features, y=test_label, batch_size=batch_size)"
      ]
    },
    {
      "cell_type": "markdown",
      "metadata": {
        "id": "Wb-bIKsN5M48"
      },
      "source": [
        "## Task 2: Did buckets outperform floating-point representations?\n",
        "\n",
        "Compare the model's `root_mean_squared_error` values for the two representations (floating-point vs. buckets)?  Which model produced lower losses? "
      ]
    },
    {
      "cell_type": "code",
      "execution_count": 13,
      "metadata": {
        "id": "6sUlX1335UCb"
      },
      "outputs": [],
      "source": [
        "#@title Double-click for an answer to Task 2.\n",
        "\n",
        "# Bucket representation outperformed \n",
        "# floating-point representations.  \n",
        "# However, you can still do far better."
      ]
    },
    {
      "cell_type": "markdown",
      "metadata": {
        "id": "ab6-bhUvxbTL"
      },
      "source": [
        "## Task 3: What is a better way to represent location?\n",
        "\n",
        "Buckets are a big improvement over floating-point values. Can you identify an even better way to identify location with `latitude` and `longitude`?"
      ]
    },
    {
      "cell_type": "code",
      "execution_count": 14,
      "metadata": {
        "id": "5no5X0OFCwf7"
      },
      "outputs": [],
      "source": [
        "#@title Double-click to view an answer to Task 3.\n",
        "\n",
        "# Representing location as a feature cross should \n",
        "# produce better results.\n",
        "\n",
        "# In Task 2, you represented latitude in \n",
        "# one-dimensional buckets and longitude in \n",
        "# another series of one-dimensional buckets. \n",
        "# Real-world locations, however, exist in \n",
        "# two dimension. Therefore, you should\n",
        "# represent location as a two-dimensional feature\n",
        "# cross. That is, you'll cross the 10 or so latitude \n",
        "# buckets with the 10 or so longitude buckets to \n",
        "# create a grid of 100 cells. \n",
        "\n",
        "# The model will learn separate weights for each \n",
        "# of the cells."
      ]
    },
    {
      "cell_type": "markdown",
      "metadata": {
        "id": "T1ulCDiyGB6g"
      },
      "source": [
        "## Represent location as a feature cross\n",
        "\n",
        "The following code cell represents location as a feature cross. That is, the following code cell first creates buckets and then calls `tf.feature_column.crossed_column` to cross the buckets.\n",
        "\n"
      ]
    },
    {
      "cell_type": "code",
      "execution_count": 15,
      "metadata": {
        "cellView": "both",
        "id": "HunsuEzqn21s"
      },
      "outputs": [],
      "source": [
        "resolution_in_degrees = 1.0 \n",
        "\n",
        "# Create a new empty list that will eventually hold the generated feature column.\n",
        "feature_columns = []\n",
        "\n",
        "# Create a bucket feature column for latitude.\n",
        "latitude_as_a_numeric_column = tf.feature_column.numeric_column(\"latitude\")\n",
        "latitude_boundaries = list(np.arange(int(min(train_df['latitude'])), int(max(train_df['latitude'])), resolution_in_degrees))\n",
        "latitude = tf.feature_column.bucketized_column(latitude_as_a_numeric_column, latitude_boundaries)\n",
        "\n",
        "# Create a bucket feature column for longitude.\n",
        "longitude_as_a_numeric_column = tf.feature_column.numeric_column(\"longitude\")\n",
        "longitude_boundaries = list(np.arange(int(min(train_df['longitude'])), int(max(train_df['longitude'])), resolution_in_degrees))\n",
        "longitude = tf.feature_column.bucketized_column(longitude_as_a_numeric_column, longitude_boundaries)\n",
        "\n",
        "# Create a feature cross of latitude and longitude.\n",
        "latitude_x_longitude = tf.feature_column.crossed_column([latitude, longitude], hash_bucket_size=100)\n",
        "crossed_feature = tf.feature_column.indicator_column(latitude_x_longitude)\n",
        "feature_columns.append(crossed_feature)\n",
        "\n",
        "# Convert the list of feature columns into a layer that will later be fed into\n",
        "# the model. \n",
        "feature_cross_feature_layer = layers.DenseFeatures(feature_columns)"
      ]
    },
    {
      "cell_type": "markdown",
      "metadata": {
        "id": "akRgNnnH3VXJ"
      },
      "source": [
        "Invoke the following code cell to test your solution for Task 3. Please ignore the warning messages."
      ]
    },
    {
      "cell_type": "code",
      "execution_count": 16,
      "metadata": {
        "id": "qn2PRDBEr5ni"
      },
      "outputs": [
        {
          "name": "stdout",
          "output_type": "stream",
          "text": [
            "Epoch 1/35\n",
            "WARNING:tensorflow:Layers in a Sequential model should only have a single input tensor, but we receive a <class 'dict'> input: {'longitude': <tf.Tensor 'ExpandDims_3:0' shape=(100, 1) dtype=float32>, 'latitude': <tf.Tensor 'ExpandDims_2:0' shape=(100, 1) dtype=float32>, 'housing_median_age': <tf.Tensor 'ExpandDims_1:0' shape=(100, 1) dtype=float32>, 'total_rooms': <tf.Tensor 'ExpandDims_7:0' shape=(100, 1) dtype=float32>, 'total_bedrooms': <tf.Tensor 'ExpandDims_6:0' shape=(100, 1) dtype=float32>, 'population': <tf.Tensor 'ExpandDims_5:0' shape=(100, 1) dtype=float32>, 'households': <tf.Tensor 'ExpandDims:0' shape=(100, 1) dtype=float32>, 'median_income': <tf.Tensor 'ExpandDims_4:0' shape=(100, 1) dtype=float32>}\n",
            "Consider rewriting this model with the Functional API.\n",
            "WARNING:tensorflow:Layers in a Sequential model should only have a single input tensor, but we receive a <class 'dict'> input: {'longitude': <tf.Tensor 'ExpandDims_3:0' shape=(100, 1) dtype=float32>, 'latitude': <tf.Tensor 'ExpandDims_2:0' shape=(100, 1) dtype=float32>, 'housing_median_age': <tf.Tensor 'ExpandDims_1:0' shape=(100, 1) dtype=float32>, 'total_rooms': <tf.Tensor 'ExpandDims_7:0' shape=(100, 1) dtype=float32>, 'total_bedrooms': <tf.Tensor 'ExpandDims_6:0' shape=(100, 1) dtype=float32>, 'population': <tf.Tensor 'ExpandDims_5:0' shape=(100, 1) dtype=float32>, 'households': <tf.Tensor 'ExpandDims:0' shape=(100, 1) dtype=float32>, 'median_income': <tf.Tensor 'ExpandDims_4:0' shape=(100, 1) dtype=float32>}\n",
            "Consider rewriting this model with the Functional API.\n",
            "170/170 [==============================] - 1s 4ms/step - loss: 54598.1822 - root_mean_squared_error: 233.6504\n",
            "Epoch 2/35\n",
            "170/170 [==============================] - 1s 4ms/step - loss: 49274.8150 - root_mean_squared_error: 221.9742\n",
            "Epoch 3/35\n",
            "170/170 [==============================] - 1s 4ms/step - loss: 44597.5838 - root_mean_squared_error: 211.1714\n",
            "Epoch 4/35\n",
            "170/170 [==============================] - 1s 4ms/step - loss: 40276.5263 - root_mean_squared_error: 200.6835\n",
            "Epoch 5/35\n",
            "170/170 [==============================] - 1s 4ms/step - loss: 36394.1897 - root_mean_squared_error: 190.7547\n",
            "Epoch 6/35\n",
            "170/170 [==============================] - 1s 4ms/step - loss: 32758.8815 - root_mean_squared_error: 180.9796\n",
            "Epoch 7/35\n",
            "170/170 [==============================] - 1s 4ms/step - loss: 29797.2982 - root_mean_squared_error: 172.5957\n",
            "Epoch 8/35\n",
            "170/170 [==============================] - 1s 4ms/step - loss: 25848.6345 - root_mean_squared_error: 160.7705\n",
            "Epoch 9/35\n",
            "170/170 [==============================] - 1s 4ms/step - loss: 23434.6280 - root_mean_squared_error: 153.0708\n",
            "Epoch 10/35\n",
            "170/170 [==============================] - 1s 4ms/step - loss: 20832.7746 - root_mean_squared_error: 144.3274\n",
            "Epoch 11/35\n",
            "170/170 [==============================] - 1s 4ms/step - loss: 18846.2176 - root_mean_squared_error: 137.2649\n",
            "Epoch 12/35\n",
            "170/170 [==============================] - 1s 4ms/step - loss: 16494.3807 - root_mean_squared_error: 128.4168\n",
            "Epoch 13/35\n",
            "170/170 [==============================] - 1s 4ms/step - loss: 15044.5786 - root_mean_squared_error: 122.6471\n",
            "Epoch 14/35\n",
            "170/170 [==============================] - 1s 4ms/step - loss: 13497.3136 - root_mean_squared_error: 116.1630\n",
            "Epoch 15/35\n",
            "170/170 [==============================] - 1s 5ms/step - loss: 12550.9761 - root_mean_squared_error: 112.0225\n",
            "Epoch 16/35\n",
            "170/170 [==============================] - 1s 5ms/step - loss: 11832.7993 - root_mean_squared_error: 108.7564\n",
            "Epoch 17/35\n",
            "170/170 [==============================] - 1s 5ms/step - loss: 11224.9584 - root_mean_squared_error: 105.9297\n",
            "Epoch 18/35\n",
            "170/170 [==============================] - 1s 5ms/step - loss: 10566.7228 - root_mean_squared_error: 102.7876\n",
            "Epoch 19/35\n",
            "170/170 [==============================] - 1s 5ms/step - loss: 10449.8573 - root_mean_squared_error: 102.2163\n",
            "Epoch 20/35\n",
            "170/170 [==============================] - 1s 5ms/step - loss: 10459.8074 - root_mean_squared_error: 102.2574\n",
            "Epoch 21/35\n",
            "170/170 [==============================] - 1s 4ms/step - loss: 10074.6212 - root_mean_squared_error: 100.3696\n",
            "Epoch 22/35\n",
            "170/170 [==============================] - 1s 4ms/step - loss: 9960.8949 - root_mean_squared_error: 99.7936\n",
            "Epoch 23/35\n",
            "170/170 [==============================] - 1s 4ms/step - loss: 9741.0010 - root_mean_squared_error: 98.6939\n",
            "Epoch 24/35\n",
            "170/170 [==============================] - 1s 4ms/step - loss: 9877.8016 - root_mean_squared_error: 99.3662\n",
            "Epoch 25/35\n",
            "170/170 [==============================] - 1s 4ms/step - loss: 9669.8800 - root_mean_squared_error: 98.3311\n",
            "Epoch 26/35\n",
            "170/170 [==============================] - 1s 4ms/step - loss: 9622.8658 - root_mean_squared_error: 98.0928\n",
            "Epoch 27/35\n",
            "170/170 [==============================] - 1s 4ms/step - loss: 9510.1192 - root_mean_squared_error: 97.5166\n",
            "Epoch 28/35\n",
            "170/170 [==============================] - 1s 4ms/step - loss: 9599.7052 - root_mean_squared_error: 97.9579\n",
            "Epoch 29/35\n",
            "170/170 [==============================] - 1s 4ms/step - loss: 9474.7489 - root_mean_squared_error: 97.3210\n",
            "Epoch 30/35\n",
            "170/170 [==============================] - 1s 4ms/step - loss: 9719.0619 - root_mean_squared_error: 98.5814\n",
            "Epoch 31/35\n",
            "170/170 [==============================] - 1s 4ms/step - loss: 9528.3650 - root_mean_squared_error: 97.6095\n",
            "Epoch 32/35\n",
            "170/170 [==============================] - 1s 4ms/step - loss: 9630.3439 - root_mean_squared_error: 98.1271\n",
            "Epoch 33/35\n",
            "170/170 [==============================] - 1s 4ms/step - loss: 9821.0304 - root_mean_squared_error: 99.0976\n",
            "Epoch 34/35\n",
            "170/170 [==============================] - 1s 4ms/step - loss: 9588.2577 - root_mean_squared_error: 97.9162\n",
            "Epoch 35/35\n",
            "170/170 [==============================] - 1s 4ms/step - loss: 9735.7678 - root_mean_squared_error: 98.6673\n"
          ]
        },
        {
          "data": {
            "image/png": "[encoded data removed]",
            "text/plain": [
              "<Figure size 432x288 with 1 Axes>"
            ]
          },
          "metadata": {
            "needs_background": "light"
          },
          "output_type": "display_data"
        },
        {
          "name": "stdout",
          "output_type": "stream",
          "text": [
            "\n",
            ": Evaluate the new model against the test set:\n",
            "WARNING:tensorflow:Layers in a Sequential model should only have a single input tensor, but we receive a <class 'dict'> input: {'longitude': <tf.Tensor 'ExpandDims_3:0' shape=(100, 1) dtype=float32>, 'latitude': <tf.Tensor 'ExpandDims_2:0' shape=(100, 1) dtype=float32>, 'housing_median_age': <tf.Tensor 'ExpandDims_1:0' shape=(100, 1) dtype=float32>, 'total_rooms': <tf.Tensor 'ExpandDims_7:0' shape=(100, 1) dtype=float32>, 'total_bedrooms': <tf.Tensor 'ExpandDims_6:0' shape=(100, 1) dtype=float32>, 'population': <tf.Tensor 'ExpandDims_5:0' shape=(100, 1) dtype=float32>, 'households': <tf.Tensor 'ExpandDims:0' shape=(100, 1) dtype=float32>, 'median_income': <tf.Tensor 'ExpandDims_4:0' shape=(100, 1) dtype=float32>}\n",
            "Consider rewriting this model with the Functional API.\n",
            "30/30 [==============================] - 0s 4ms/step - loss: 9520.4316 - root_mean_squared_error: 97.5727\n"
          ]
        },
        {
          "data": {
            "text/plain": [
              "[9520.431640625, 97.57270050048828]"
            ]
          },
          "execution_count": 16,
          "metadata": {},
          "output_type": "execute_result"
        }
      ],
      "source": [
        "# The following variables are the hyperparameters.\n",
        "learning_rate = 0.04\n",
        "epochs = 35\n",
        "\n",
        "# Build the model, this time passing in the feature_cross_feature_layer: \n",
        "my_model = create_model(learning_rate, feature_cross_feature_layer)\n",
        "\n",
        "# Train the model on the training set.\n",
        "epochs, rmse = train_model(my_model, train_df, epochs, batch_size, label_name)\n",
        "\n",
        "plot_the_loss_curve(epochs, rmse)\n",
        "\n",
        "print(\"\\n: Evaluate the new model against the test set:\")\n",
        "my_model.evaluate(x=test_features, y=test_label, batch_size=batch_size)"
      ]
    },
    {
      "cell_type": "markdown",
      "metadata": {
        "id": "bCT-l1GaWNQE"
      },
      "source": [
        "## Task 4: Did the feature cross outperform buckets?\n",
        "\n",
        "Compare the model's `root_mean_squared_error` values for the two representations (buckets vs. feature cross)?  Which model produced\n",
        "lower losses? "
      ]
    },
    {
      "cell_type": "code",
      "execution_count": 17,
      "metadata": {
        "id": "HUzdWDcs5rCi"
      },
      "outputs": [],
      "source": [
        "#@title Double-click for an answer to this question.\n",
        "\n",
        "# Yes, representing these features as a feature \n",
        "# cross produced much lower loss values than \n",
        "# representing these features as buckets"
      ]
    },
    {
      "cell_type": "markdown",
      "metadata": {
        "id": "J9Iw3ljfXqSQ"
      },
      "source": [
        "## Task 5: Adjust the resolution of the feature cross\n",
        "\n",
        "Return to the code cell in the \"Represent location as a feature cross\" section. Notice that `resolution_in_degrees` is set to 1.0. Therefore, each cell represents an area of 1.0 degree of latitude by 1.0 degree of longitude, which corresponds to a cell of 110 km by 90 km.  This resolution defines a rather large neighborhood. \n",
        "\n",
        "Experiment with `resolution_in_degrees` to answer the following questions:\n",
        "\n",
        "  1. What value of `resolution_in_degrees` produces the best results (lowest loss value)?\n",
        "  2. Why does loss increase when the value of `resolution_in_degrees` drops below a certain value?\n",
        "\n",
        "Finally, answer the following question:\n",
        "\n",
        "  3. What feature (that does not exist in the California Housing Dataset) would\n",
        "     be a better proxy for location than latitude X longitude."
      ]
    },
    {
      "cell_type": "code",
      "execution_count": 25,
      "metadata": {
        "id": "7kz1ieYBJsNf"
      },
      "outputs": [
        {
          "name": "stdout",
          "output_type": "stream",
          "text": [
            "2500\n"
          ]
        }
      ],
      "source": [
        "n = 0.2\n",
        "m = int((10 / n) ** 2)\n",
        "print(m)"
      ]
    },
    {
      "cell_type": "code",
      "execution_count": 26,
      "metadata": {
        "id": "DioNJ3wbIgGP"
      },
      "outputs": [],
      "source": [
        "resolution_in_degrees = n\n",
        "\n",
        "# Create a new empty list that will eventually hold the generated feature column.\n",
        "feature_columns = []\n",
        "\n",
        "# Create a bucket feature column for latitude.\n",
        "latitude_as_a_numeric_column = tf.feature_column.numeric_column(\"latitude\")\n",
        "latitude_boundaries = list(np.arange(int(min(train_df['latitude'])), int(max(train_df['latitude'])), resolution_in_degrees))\n",
        "latitude = tf.feature_column.bucketized_column(latitude_as_a_numeric_column, latitude_boundaries)\n",
        "\n",
        "# Create a bucket feature column for longitude.\n",
        "longitude_as_a_numeric_column = tf.feature_column.numeric_column(\"longitude\")\n",
        "longitude_boundaries = list(np.arange(int(min(train_df['longitude'])), int(max(train_df['longitude'])), resolution_in_degrees))\n",
        "longitude = tf.feature_column.bucketized_column(longitude_as_a_numeric_column, longitude_boundaries)\n",
        "\n",
        "# Create a feature cross of latitude and longitude.\n",
        "latitude_x_longitude = tf.feature_column.crossed_column([latitude, longitude], hash_bucket_size=m)\n",
        "crossed_feature = tf.feature_column.indicator_column(latitude_x_longitude)\n",
        "feature_columns.append(crossed_feature)\n",
        "\n",
        "# Convert the list of feature columns into a layer that will later be fed into\n",
        "# the model. \n",
        "feature_cross_feature_layer = layers.DenseFeatures(feature_columns)"
      ]
    },
    {
      "cell_type": "code",
      "execution_count": 27,
      "metadata": {
        "id": "E3Dug7QhIa9X"
      },
      "outputs": [
        {
          "name": "stdout",
          "output_type": "stream",
          "text": [
            "Epoch 1/35\n",
            "WARNING:tensorflow:Layers in a Sequential model should only have a single input tensor, but we receive a <class 'dict'> input: {'longitude': <tf.Tensor 'ExpandDims_3:0' shape=(100, 1) dtype=float32>, 'latitude': <tf.Tensor 'ExpandDims_2:0' shape=(100, 1) dtype=float32>, 'housing_median_age': <tf.Tensor 'ExpandDims_1:0' shape=(100, 1) dtype=float32>, 'total_rooms': <tf.Tensor 'ExpandDims_7:0' shape=(100, 1) dtype=float32>, 'total_bedrooms': <tf.Tensor 'ExpandDims_6:0' shape=(100, 1) dtype=float32>, 'population': <tf.Tensor 'ExpandDims_5:0' shape=(100, 1) dtype=float32>, 'households': <tf.Tensor 'ExpandDims:0' shape=(100, 1) dtype=float32>, 'median_income': <tf.Tensor 'ExpandDims_4:0' shape=(100, 1) dtype=float32>}\n",
            "Consider rewriting this model with the Functional API.\n",
            "WARNING:tensorflow:Layers in a Sequential model should only have a single input tensor, but we receive a <class 'dict'> input: {'longitude': <tf.Tensor 'ExpandDims_3:0' shape=(100, 1) dtype=float32>, 'latitude': <tf.Tensor 'ExpandDims_2:0' shape=(100, 1) dtype=float32>, 'housing_median_age': <tf.Tensor 'ExpandDims_1:0' shape=(100, 1) dtype=float32>, 'total_rooms': <tf.Tensor 'ExpandDims_7:0' shape=(100, 1) dtype=float32>, 'total_bedrooms': <tf.Tensor 'ExpandDims_6:0' shape=(100, 1) dtype=float32>, 'population': <tf.Tensor 'ExpandDims_5:0' shape=(100, 1) dtype=float32>, 'households': <tf.Tensor 'ExpandDims:0' shape=(100, 1) dtype=float32>, 'median_income': <tf.Tensor 'ExpandDims_4:0' shape=(100, 1) dtype=float32>}\n",
            "Consider rewriting this model with the Functional API.\n",
            "170/170 [==============================] - 1s 5ms/step - loss: 54185.7103 - root_mean_squared_error: 232.7735\n",
            "Epoch 2/35\n",
            "170/170 [==============================] - 1s 4ms/step - loss: 50960.6449 - root_mean_squared_error: 225.7351\n",
            "Epoch 3/35\n",
            "170/170 [==============================] - 1s 4ms/step - loss: 46246.4049 - root_mean_squared_error: 215.0413\n",
            "Epoch 4/35\n",
            "170/170 [==============================] - 1s 5ms/step - loss: 42495.9018 - root_mean_squared_error: 206.1389\n",
            "Epoch 5/35\n",
            "170/170 [==============================] - 1s 4ms/step - loss: 38914.4938 - root_mean_squared_error: 197.2482\n",
            "Epoch 6/35\n",
            "170/170 [==============================] - 1s 4ms/step - loss: 34146.1342 - root_mean_squared_error: 184.7818\n",
            "Epoch 7/35\n",
            "170/170 [==============================] - 1s 4ms/step - loss: 31725.1733 - root_mean_squared_error: 178.1095\n",
            "Epoch 8/35\n",
            "170/170 [==============================] - 1s 4ms/step - loss: 29179.3289 - root_mean_squared_error: 170.8082\n",
            "Epoch 9/35\n",
            "170/170 [==============================] - 1s 5ms/step - loss: 26796.7261 - root_mean_squared_error: 163.6807\n",
            "Epoch 10/35\n",
            "170/170 [==============================] - 1s 5ms/step - loss: 23462.1020 - root_mean_squared_error: 153.1680\n",
            "Epoch 11/35\n",
            "170/170 [==============================] - 1s 5ms/step - loss: 21665.9088 - root_mean_squared_error: 147.1755\n",
            "Epoch 12/35\n",
            "170/170 [==============================] - 1s 5ms/step - loss: 19896.7825 - root_mean_squared_error: 141.0485\n",
            "Epoch 13/35\n",
            "170/170 [==============================] - 1s 4ms/step - loss: 17515.3863 - root_mean_squared_error: 132.3348\n",
            "Epoch 14/35\n",
            "170/170 [==============================] - 1s 4ms/step - loss: 16251.3351 - root_mean_squared_error: 127.4711\n",
            "Epoch 15/35\n",
            "170/170 [==============================] - 1s 5ms/step - loss: 15108.3332 - root_mean_squared_error: 122.8960\n",
            "Epoch 16/35\n",
            "170/170 [==============================] - 1s 5ms/step - loss: 13969.4758 - root_mean_squared_error: 118.1836\n",
            "Epoch 17/35\n",
            "170/170 [==============================] - 1s 4ms/step - loss: 12881.0457 - root_mean_squared_error: 113.4813\n",
            "Epoch 18/35\n",
            "170/170 [==============================] - 1s 4ms/step - loss: 11929.5663 - root_mean_squared_error: 109.2174\n",
            "Epoch 19/35\n",
            "170/170 [==============================] - 1s 4ms/step - loss: 11346.3320 - root_mean_squared_error: 106.5113\n",
            "Epoch 20/35\n",
            "170/170 [==============================] - 1s 4ms/step - loss: 10560.1848 - root_mean_squared_error: 102.7540\n",
            "Epoch 21/35\n",
            "170/170 [==============================] - 1s 4ms/step - loss: 10035.7397 - root_mean_squared_error: 100.1651\n",
            "Epoch 22/35\n",
            "170/170 [==============================] - 1s 4ms/step - loss: 9917.7502 - root_mean_squared_error: 99.5808\n",
            "Epoch 23/35\n",
            "170/170 [==============================] - 1s 4ms/step - loss: 9603.7931 - root_mean_squared_error: 97.9943\n",
            "Epoch 24/35\n",
            "170/170 [==============================] - 1s 4ms/step - loss: 9195.4218 - root_mean_squared_error: 95.8887\n",
            "Epoch 25/35\n",
            "170/170 [==============================] - 1s 4ms/step - loss: 9070.4754 - root_mean_squared_error: 95.2353\n",
            "Epoch 26/35\n",
            "170/170 [==============================] - 1s 4ms/step - loss: 9049.2385 - root_mean_squared_error: 95.1199\n",
            "Epoch 27/35\n",
            "170/170 [==============================] - 1s 4ms/step - loss: 8778.7587 - root_mean_squared_error: 93.6891\n",
            "Epoch 28/35\n",
            "170/170 [==============================] - 1s 4ms/step - loss: 8598.6319 - root_mean_squared_error: 92.7198\n",
            "Epoch 29/35\n",
            "170/170 [==============================] - 1s 5ms/step - loss: 8464.4828 - root_mean_squared_error: 91.9993\n",
            "Epoch 30/35\n",
            "170/170 [==============================] - 1s 4ms/step - loss: 8355.2243 - root_mean_squared_error: 91.4057\n",
            "Epoch 31/35\n",
            "170/170 [==============================] - 1s 4ms/step - loss: 8179.3175 - root_mean_squared_error: 90.4338\n",
            "Epoch 32/35\n",
            "170/170 [==============================] - 1s 4ms/step - loss: 8122.3627 - root_mean_squared_error: 90.1186\n",
            "Epoch 33/35\n",
            "170/170 [==============================] - 1s 4ms/step - loss: 7877.2324 - root_mean_squared_error: 88.7484\n",
            "Epoch 34/35\n",
            "170/170 [==============================] - 1s 4ms/step - loss: 8085.9256 - root_mean_squared_error: 89.9120\n",
            "Epoch 35/35\n",
            "170/170 [==============================] - 1s 4ms/step - loss: 7702.0079 - root_mean_squared_error: 87.7531\n"
          ]
        },
        {
          "data": {
            "image/png": "[encoded data removed]",
            "text/plain": [
              "<Figure size 432x288 with 1 Axes>"
            ]
          },
          "metadata": {
            "needs_background": "light"
          },
          "output_type": "display_data"
        },
        {
          "name": "stdout",
          "output_type": "stream",
          "text": [
            "\n",
            ": Evaluate the new model against the test set:\n",
            "WARNING:tensorflow:Layers in a Sequential model should only have a single input tensor, but we receive a <class 'dict'> input: {'longitude': <tf.Tensor 'ExpandDims_3:0' shape=(100, 1) dtype=float32>, 'latitude': <tf.Tensor 'ExpandDims_2:0' shape=(100, 1) dtype=float32>, 'housing_median_age': <tf.Tensor 'ExpandDims_1:0' shape=(100, 1) dtype=float32>, 'total_rooms': <tf.Tensor 'ExpandDims_7:0' shape=(100, 1) dtype=float32>, 'total_bedrooms': <tf.Tensor 'ExpandDims_6:0' shape=(100, 1) dtype=float32>, 'population': <tf.Tensor 'ExpandDims_5:0' shape=(100, 1) dtype=float32>, 'households': <tf.Tensor 'ExpandDims:0' shape=(100, 1) dtype=float32>, 'median_income': <tf.Tensor 'ExpandDims_4:0' shape=(100, 1) dtype=float32>}\n",
            "Consider rewriting this model with the Functional API.\n",
            "30/30 [==============================] - 0s 3ms/step - loss: 7844.7432 - root_mean_squared_error: 88.5706\n"
          ]
        },
        {
          "data": {
            "text/plain": [
              "[7844.7431640625, 88.570556640625]"
            ]
          },
          "execution_count": 27,
          "metadata": {},
          "output_type": "execute_result"
        }
      ],
      "source": [
        "learning_rate = 0.04\n",
        "epochs = 35\n",
        "\n",
        "# Build the model, this time passing in the feature_cross_feature_layer: \n",
        "my_model = create_model(learning_rate, feature_cross_feature_layer)\n",
        "\n",
        "# Train the model on the training set.\n",
        "epochs, rmse = train_model(my_model, train_df, epochs, batch_size, label_name)\n",
        "\n",
        "plot_the_loss_curve(epochs, rmse)\n",
        "\n",
        "print(\"\\n: Evaluate the new model against the test set:\")\n",
        "my_model.evaluate(x=test_features, y=test_label, batch_size=batch_size)"
      ]
    },
    {
      "cell_type": "code",
      "execution_count": 21,
      "metadata": {
        "id": "HPjX5duiIax4"
      },
      "outputs": [],
      "source": [
        "# resolution_in_degrees = 1.0 - loss: 9520.5303 - root_mean_squared_error: 97.5732\n",
        "# resolution_in_degrees = 0.5 - loss: 8581.9141 - root_mean_squared_error: 92.6386\n",
        "# resolution_in_degrees = 0.2 - loss: 7839.1895 - root_mean_squared_error: 88.5392\n",
        "# resolution_in_degrees = 0.05 - loss: 8847.9795 - root_mean_squared_error: 94.0637"
      ]
    },
    {
      "cell_type": "code",
      "execution_count": 22,
      "metadata": {
        "id": "71WWwlhx4h0X"
      },
      "outputs": [],
      "source": [
        "#@title Double-click for possible answers to Task 5.\n",
        "\n",
        "#1. A resolution of ~0.4 degree provides the best \n",
        "#   results.\n",
        "\n",
        "#2. Below ~0.4 degree, loss increases because the \n",
        "#   dataset does not contain enough examples in \n",
        "#   each cell to accurately predict prices for \n",
        "#   those cells.\n",
        "\n",
        "#3. Postal code would be a far better feature \n",
        "#   than latitude X longitude, assuming that \n",
        "#   the dataset contained sufficient examples \n",
        "#   in each postal code."
      ]
    },
    {
      "cell_type": "markdown",
      "metadata": {
        "id": "OKwFTRVxLNb4"
      },
      "source": [
        "Feature Cross를 통하여 선형 모델로 비선형 문제를 해결할 수 있다.\n",
        "\n",
        "- tf.feature_column 메소드를 사용하여 numeric column를 재표현 할 수 있고, (numeric_column())\n",
        "- 상황에 따라 bucket으로 만들어 더 좋은 결과를 낼 수 있다. (bucketized_column())\n",
        "- 뿐만 아니라, 1차원인 bucket을 2차원인 hash로 만들어 더 효율적으로 만들 수 있다. (crossed_column() - indicator_column())"
      ]
    },
    {
      "cell_type": "markdown",
      "metadata": {
        "id": "SW-uMWBGOErb"
      },
      "source": [
        "이 예제 문제를 해결하는데에 작성자는 'resolution_in_degrees'만 바꿔서 0.4에서 가장 좋은 결과가 나왔다고 했는데, 'resolution_in_degrees'에 맞게 'hash_bucket_size'도 계산하여 바꿔주면 훨씬 좋은 결과를 낼 수 있다."
      ]
    }
  ],
  "metadata": {
    "accelerator": "TPU",
    "colab": {
      "collapsed_sections": [],
      "name": "Representation with a Feature Cross.ipynb",
      "private_outputs": true,
      "provenance": []
    },
    "kernelspec": {
      "display_name": "Python 3",
      "name": "python3"
    },
    "language_info": {
      "codemirror_mode": {
        "name": "ipython",
        "version": 3
      },
      "file_extension": ".py",
      "mimetype": "text/x-python",
      "name": "python",
      "nbconvert_exporter": "python",
      "pygments_lexer": "ipython3",
      "version": "3.8.12"
    }
  },
  "nbformat": 4,
  "nbformat_minor": 0
}
